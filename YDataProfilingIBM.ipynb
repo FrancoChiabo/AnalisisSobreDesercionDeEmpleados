{
 "cells": [
  {
   "cell_type": "code",
   "execution_count": 1,
   "metadata": {},
   "outputs": [
    {
     "name": "stderr",
     "output_type": "stream",
     "text": [
      "c:\\Users\\fchia\\AppData\\Local\\Programs\\Python\\Python311\\Lib\\site-packages\\tqdm\\auto.py:21: TqdmWarning: IProgress not found. Please update jupyter and ipywidgets. See https://ipywidgets.readthedocs.io/en/stable/user_install.html\n",
      "  from .autonotebook import tqdm as notebook_tqdm\n",
      "Summarize dataset: 100%|██████████| 269/269 [00:33<00:00,  8.00it/s, Completed]                                               \n",
      "Generate report structure: 100%|██████████| 1/1 [00:09<00:00,  9.35s/it]\n",
      "Render HTML: 100%|██████████| 1/1 [00:05<00:00,  5.77s/it]\n",
      "Export report to file: 100%|██████████| 1/1 [00:00<00:00, 18.23it/s]\n"
     ]
    }
   ],
   "source": [
    "import pandas as pd\n",
    "from ydata_profiling import ProfileReport\n",
    "\n",
    "df= pd.read_csv(\"IBM HR Data new.csv\")\n",
    "\n",
    "profile = ProfileReport(df)\n",
    "profile.to_file(\"output.html\")"
   ]
  }
 ],
 "metadata": {
  "kernelspec": {
   "display_name": ".venv",
   "language": "python",
   "name": "python3"
  },
  "language_info": {
   "codemirror_mode": {
    "name": "ipython",
    "version": 3
   },
   "file_extension": ".py",
   "mimetype": "text/x-python",
   "name": "python",
   "nbconvert_exporter": "python",
   "pygments_lexer": "ipython3",
   "version": "3.11.1"
  }
 },
 "nbformat": 4,
 "nbformat_minor": 2
}
